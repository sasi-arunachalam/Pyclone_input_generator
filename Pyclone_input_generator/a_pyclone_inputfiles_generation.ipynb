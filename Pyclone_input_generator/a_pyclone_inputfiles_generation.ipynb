{
 "cells": [
  {
   "cell_type": "code",
   "execution_count": 1,
   "metadata": {},
   "outputs": [],
   "source": [
    "import os\n",
    "import numpy as np\n",
    "import seaborn as sns\n",
    "import pandas as pd\n",
    "import matplotlib.pyplot as plt\n"
   ]
  },
  {
   "cell_type": "markdown",
   "metadata": {},
   "source": [
    "**Generating input files for pyclone**"
   ]
  },
  {
   "cell_type": "code",
   "execution_count": 2,
   "metadata": {},
   "outputs": [],
   "source": [
    "import os \n",
    "os.chdir(\"/Desktop/working_folder/\")"
   ]
  },
  {
   "cell_type": "code",
   "execution_count": 3,
   "metadata": {},
   "outputs": [],
   "source": [
    "def pyclone(y,z,t):\n",
    "    x1=data.filter(regex= y)\n",
    "    x2=data.filter(regex= z)\n",
    "    x3=data.filter(regex=\"SNV|Gene|sex\")\n",
    "    x=pd.concat([x3,x1,x2],axis=1)    \n",
    "    x[\"mutation_id\"]= x[\"Gene\"]+ \":\"+ x[\"SNV\"]\n",
    "    x.drop([\"SNV\",\"Gene\"],axis=1,inplace=True )\n",
    "    x.columns=[\"sex\",\"var_counts\",\"total_counts\",\"major_cn\",\"mutation_id\"]\n",
    "    x[\"normal_cn\"]=int(2)\n",
    "    x[\"minor_cn\"]=0\n",
    "    x[\"ref_counts\"]=x[\"total_counts\"]-x[\"var_counts\"]\n",
    "    x[\"Chromosome\"]=x.mutation_id.str.split(\":\").apply(lambda x :x[1])\n",
    "    x[\"Chromosome\"]=x.Chromosome.str.split(\".\").apply(lambda x :x[0])\n",
    "    x[\"Chromosome\"]=x.Chromosome.str.replace(\"chr\",\"\")\n",
    "    x[\"sex_chr\"]=x[\"sex\"]+ \":\"+ x[\"Chromosome\"]\n",
    "    x[\"normal_cn\"]=x['sex_chr'].apply(lambda x: int(1) if x == \"M:X\" else int(2))\n",
    "    x=x[[ 'mutation_id', 'ref_counts','var_counts','normal_cn', 'minor_cn','major_cn'\n",
    "       ]]\n",
    "    x.dropna(inplace=True)\n",
    "    x=x.astype(int, errors='ignore')\n",
    "    os.chdir(\"Desktop/working_folder/Pyclone_inputs/\")\n",
    "    x.to_csv(t, sep = '\\t', index=False)  "
   ]
  },
  {
   "cell_type": "code",
   "execution_count": 4,
   "metadata": {},
   "outputs": [],
   "source": [
    "for filename in os.listdir(): \n",
    "    if filename.endswith(\"input.txt\"):\n",
    "            os.chdir(\"/Desktop/working_folder/\")\n",
    "            data=pd.read_csv(filename,delimiter=\"\\t\")\n",
    "            data.columns = data.columns.str.replace('(\\.\\d+)$','') # rename the auto-renaming . so duplicate columsn can be removed\n",
    "            data = data.loc[:, ~data.columns.duplicated()]\n",
    "            df2 = data.filter(regex='_CNV-Int')\n",
    "            num = 1+len(df2.columns)\n",
    "            for i in range(1,num):\n",
    "                y=\"nA\"+str(i)\n",
    "                z=\"A\"+str(i)+\"_CNV-Int\"\n",
    "                t=filename.split('_')[0]+\"_A\"+str(i)+\".tsv\"\n",
    "                pyclone(y,z,t)\n"
   ]
  },
  {
   "cell_type": "code",
   "execution_count": null,
   "metadata": {},
   "outputs": [],
   "source": []
  }
 ],
 "metadata": {
  "kernelspec": {
   "display_name": "Python 3",
   "language": "python",
   "name": "python3"
  },
  "language_info": {
   "codemirror_mode": {
    "name": "ipython",
    "version": 3
   },
   "file_extension": ".py",
   "mimetype": "text/x-python",
   "name": "python",
   "nbconvert_exporter": "python",
   "pygments_lexer": "ipython3",
   "version": "3.8.5"
  }
 },
 "nbformat": 4,
 "nbformat_minor": 2
}
